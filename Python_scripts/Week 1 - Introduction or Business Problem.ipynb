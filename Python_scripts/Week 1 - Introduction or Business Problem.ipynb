{
 "cells": [
  {
   "cell_type": "markdown",
   "metadata": {},
   "source": [
    "# IBM Data Science Professional Certification - Capstone Project"
   ]
  },
  {
   "cell_type": "markdown",
   "metadata": {},
   "source": [
    "## The Battle of Neighbourhoods (London)"
   ]
  },
  {
   "cell_type": "markdown",
   "metadata": {},
   "source": [
    "### Introduction/Business Problem"
   ]
  },
  {
   "cell_type": "markdown",
   "metadata": {},
   "source": [
    "The purpose of this project is to analyse the boroughs of London (UK) for safety based upon the criminal records available in public domain. This analysis would be help to those planning to move to London to pursue their professional ambitions. It will provide them with an unbiased report on where to rent of buy a place to live, assuming that safety is the topmost priority for anyone moving to a new place.\n",
    "\n",
    "Once the safest borough is idenfied by the analysis, an attempt will be made to explore the top neighbourhoods in that borough. This will provide more information to a new person for selecting a specific neighbourhood to reside based upon his / her individual preferences and tastes."
   ]
  },
  {
   "cell_type": "markdown",
   "metadata": {},
   "source": [
    "### Data acquisition"
   ]
  },
  {
   "cell_type": "markdown",
   "metadata": {},
   "source": [
    "The below data will be required to solve the aforementioned business problem: -\n",
    "* Criminal records for the city of London\n",
    "* Neighbourhood details for London boroughs <br>\n",
    "\n",
    "The data sources that will be used to acquire the above information are mentioned below: -\n",
    "* Real world dataset from Kaggle providing details about crimes in London\n",
    "* Information about the neighbourhoods of London's boroughs from Wikipedia (Google Maps API geocoding will be used for sourcing coordinates of neighbourhoods within a borough)"
   ]
  },
  {
   "cell_type": "markdown",
   "metadata": {},
   "source": [
    "## Part 1 - Processing London crime statistics dataset from Kaggle"
   ]
  },
  {
   "cell_type": "markdown",
   "metadata": {},
   "source": [
    "Location of data: https://www.kaggle.com/jboysen/london-crime"
   ]
  },
  {
   "cell_type": "markdown",
   "metadata": {},
   "source": [
    "### Importing libraries"
   ]
  },
  {
   "cell_type": "code",
   "execution_count": 67,
   "metadata": {},
   "outputs": [],
   "source": [
    "import pandas as pd\n",
    "import numpy as np\n",
    "import requests\n",
    "import random\n",
    "%matplotlib inline \n",
    "import matplotlib as mplb\n",
    "import matplotlib.pyplot as plt\n",
    "import matplotlib.cm as mpcm\n",
    "import matplotlib.colors as cols\n",
    "from bs4 import BeautifulSoup\n",
    "from pandas.io.json import json_normalize\n",
    "from IPython.display import Image \n",
    "from IPython.core.display import HTML\n",
    "import folium\n",
    "import geocoder\n",
    "from geopy.geocoders import Nominatim\n",
    "from sklearn.cluster import KMeans"
   ]
  },
  {
   "cell_type": "markdown",
   "metadata": {},
   "source": [
    "### Converting Kaggle .csv data to a DataFrame and processing it"
   ]
  },
  {
   "cell_type": "code",
   "execution_count": null,
   "metadata": {},
   "outputs": [],
   "source": [
    "# Reading the csv file\n",
    "df_lon = pd.read_csv(\"london_crime_by_lsoa.csv\")\n",
    "df_lon.head()"
   ]
  },
  {
   "cell_type": "code",
   "execution_count": null,
   "metadata": {},
   "outputs": [],
   "source": [
    "df_lon.shape"
   ]
  },
  {
   "cell_type": "code",
   "execution_count": null,
   "metadata": {},
   "outputs": [],
   "source": [
    "# Keeping the data of the latest year (2016) and dropping older data\n",
    "df_lon.drop(df_lon.index[df_lon['year'] != 2016], inplace = True)\n",
    "df_lon.shape"
   ]
  },
  {
   "cell_type": "code",
   "execution_count": null,
   "metadata": {},
   "outputs": [],
   "source": [
    "# Removing rows where criminal record is zero\n",
    "df_lon = df_lon[df_lon.value != 0]\n",
    "df_lon.shape"
   ]
  },
  {
   "cell_type": "code",
   "execution_count": null,
   "metadata": {},
   "outputs": [],
   "source": [
    "df_lon.head()"
   ]
  },
  {
   "cell_type": "code",
   "execution_count": null,
   "metadata": {},
   "outputs": [],
   "source": [
    "# Resetting index\n",
    "df_lon = df_lon.reset_index(drop=True)\n",
    "df_lon.head()"
   ]
  },
  {
   "cell_type": "code",
   "execution_count": null,
   "metadata": {},
   "outputs": [],
   "source": [
    "df_lon.info()"
   ]
  },
  {
   "cell_type": "code",
   "execution_count": null,
   "metadata": {},
   "outputs": [],
   "source": [
    "# Total crimes in each borough\n",
    "df_lon['borough'].value_counts()"
   ]
  },
  {
   "cell_type": "code",
   "execution_count": null,
   "metadata": {},
   "outputs": [],
   "source": [
    "# Distribution of major ca\n",
    "df_lon['major_category'].value_counts()"
   ]
  },
  {
   "cell_type": "code",
   "execution_count": null,
   "metadata": {},
   "outputs": [],
   "source": [
    "df_lon['minor_category'].value_counts()"
   ]
  },
  {
   "cell_type": "markdown",
   "metadata": {},
   "source": [
    "### Creating a DataFrame to view category-wise crime records for every borough and processing"
   ]
  },
  {
   "cell_type": "code",
   "execution_count": null,
   "metadata": {},
   "outputs": [],
   "source": [
    "# Creating a pivot table\n",
    "df_lon_pt = pd.pivot_table (df_lon, index=['borough'], columns=['major_category'], values=['value'], aggfunc=np.sum, fill_value=0)\n",
    "df_lon_pt.head()"
   ]
  },
  {
   "cell_type": "code",
   "execution_count": null,
   "metadata": {},
   "outputs": [],
   "source": [
    "# Resetting the index\n",
    "df_lon_pt.reset_index(inplace = True)\n",
    "df_lon_pt.head()"
   ]
  },
  {
   "cell_type": "code",
   "execution_count": null,
   "metadata": {},
   "outputs": [],
   "source": [
    "df_lon_pt.shape"
   ]
  },
  {
   "cell_type": "code",
   "execution_count": null,
   "metadata": {},
   "outputs": [],
   "source": [
    "# Adding a total column and removing multiple headers\n",
    "df_lon_pt['Total'] = df_lon_pt.sum(axis=1)\n",
    "df_lon_pt.head()"
   ]
  },
  {
   "cell_type": "code",
   "execution_count": null,
   "metadata": {},
   "outputs": [],
   "source": [
    "# Reducing the headers from 2 to 1\n",
    "df_lon_pt.columns = df_lon_pt.columns.map(''.join)\n",
    "df_lon_pt.head()"
   ]
  },
  {
   "cell_type": "code",
   "execution_count": null,
   "metadata": {},
   "outputs": [],
   "source": [
    "# Renaming columns\n",
    "df_lon_pt.columns = ['Borough','burglary', 'criminal_damage','drugs','other_notifiable_offences', 'robbery','theft_and_handling','violence_against_the_person','total']\n",
    "df_lon_pt.head()"
   ]
  },
  {
   "cell_type": "markdown",
   "metadata": {},
   "source": [
    "## Part 2 - Creating a DataFrame for London neighbourhoods from Wikipedia"
   ]
  },
  {
   "cell_type": "markdown",
   "metadata": {},
   "source": [
    "Location of data: https://en.wikipedia.org/wiki/List_of_London_boroughs"
   ]
  },
  {
   "cell_type": "code",
   "execution_count": null,
   "metadata": {},
   "outputs": [],
   "source": [
    "raw_data = requests.get('https://en.wikipedia.org/wiki/List_of_London_boroughs').text\n",
    "neigh = BeautifulSoup(raw_data,'xml')"
   ]
  },
  {
   "cell_type": "code",
   "execution_count": null,
   "metadata": {},
   "outputs": [],
   "source": [
    "# Selecting data from the table available on the wikipedia page\n",
    "lon_neigh_table = neigh.find_all('table', {'class':'wikitable sortable'})"
   ]
  },
  {
   "cell_type": "code",
   "execution_count": null,
   "metadata": {},
   "outputs": [],
   "source": [
    "# Creating a DataFrame from the table\n",
    "df_lon_neigh = pd.read_html(str(lon_neigh_table[0]), index_col=None, header=0)[0]\n",
    "df_lon_neigh.head()"
   ]
  },
  {
   "cell_type": "code",
   "execution_count": null,
   "metadata": {},
   "outputs": [],
   "source": [
    "df_lon_neigh.shape"
   ]
  },
  {
   "cell_type": "code",
   "execution_count": null,
   "metadata": {},
   "outputs": [],
   "source": [
    "# Extracting the second table on the wikipedia page by the same process\n",
    "df_lon_neigh_col = pd.read_html(str(lon_neigh_table[1]), index_col=None, header=0)[0]\n",
    "df_lon_neigh_col.columns = ['Borough','Inner','Status','Local authority','Political control','Headquarters','Area (sq mi)','Population (2013 est)[1]','Co-ordinates','Nr. in map']\n",
    "df_lon_neigh_col"
   ]
  },
  {
   "cell_type": "code",
   "execution_count": null,
   "metadata": {},
   "outputs": [],
   "source": [
    "# Merging both tables\n",
    "df_lon_neigh = df_lon_neigh.append(df_lon_neigh_col, ignore_index = True) \n",
    "df_lon_neigh.head()"
   ]
  },
  {
   "cell_type": "code",
   "execution_count": null,
   "metadata": {},
   "outputs": [],
   "source": [
    "df_lon_neigh.shape"
   ]
  },
  {
   "cell_type": "code",
   "execution_count": null,
   "metadata": {},
   "outputs": [],
   "source": [
    "# Checking the full table for consitency\n",
    "df_lon_neigh"
   ]
  },
  {
   "cell_type": "code",
   "execution_count": null,
   "metadata": {},
   "outputs": [],
   "source": [
    "# Cleaning the dataset to match the criminal record DataFrame created earlier\n",
    "df_lon_neigh = df_lon_neigh.replace('note 1','', regex=True) \n",
    "df_lon_neigh = df_lon_neigh.replace('note 2','', regex=True) \n",
    "df_lon_neigh = df_lon_neigh.replace('note 3','', regex=True) \n",
    "df_lon_neigh = df_lon_neigh.replace('note 4','', regex=True) \n",
    "df_lon_neigh = df_lon_neigh.replace('note 5','', regex=True)\n",
    "df_lon_neigh.iloc[0,0] = 'Barking and Dagenham'\n",
    "df_lon_neigh.iloc[9,0] = 'Greenwich'\n",
    "df_lon_neigh.iloc[11,0] = 'Hammersmith and Fulham'\n",
    "df_lon_neigh"
   ]
  },
  {
   "cell_type": "code",
   "execution_count": null,
   "metadata": {},
   "outputs": [],
   "source": [
    "df_lon_pt.shape"
   ]
  },
  {
   "cell_type": "code",
   "execution_count": null,
   "metadata": {},
   "outputs": [],
   "source": [
    "df_lon_neigh.shape"
   ]
  },
  {
   "cell_type": "code",
   "execution_count": null,
   "metadata": {},
   "outputs": [],
   "source": [
    "# Merging both the DataFrames\n",
    "df_lon_merged = pd.merge(df_lon_pt, df_lon_neigh, on='Borough')\n",
    "df_lon_merged.head()"
   ]
  },
  {
   "cell_type": "code",
   "execution_count": null,
   "metadata": {},
   "outputs": [],
   "source": [
    "df_lon_merged.shape"
   ]
  },
  {
   "cell_type": "code",
   "execution_count": null,
   "metadata": {},
   "outputs": [],
   "source": [
    "df_lon_merged.columns.tolist()"
   ]
  },
  {
   "cell_type": "code",
   "execution_count": null,
   "metadata": {},
   "outputs": [],
   "source": [
    "# Renaming columns\n",
    "df_lon_merged.columns = ['borough','burglary', 'criminal_damage','drugs','other_notifiable_offences', 'robbery','theft_and_handling','violence_against_the_person','total','inner','status','local_authority','political_control','headquarters','area_sq_mi','population_2013','co-ordinates','nr_in_map']\n",
    "df_lon_merged.head()"
   ]
  },
  {
   "cell_type": "markdown",
   "metadata": {},
   "source": [
    "## Part 3 - Data Analysis (exploratory) of the Merged DataFrame"
   ]
  },
  {
   "cell_type": "code",
   "execution_count": null,
   "metadata": {},
   "outputs": [],
   "source": [
    "df_lon_merged.shape"
   ]
  },
  {
   "cell_type": "code",
   "execution_count": null,
   "metadata": {},
   "outputs": [],
   "source": [
    "df_lon_merged.columns.tolist()"
   ]
  },
  {
   "cell_type": "code",
   "execution_count": null,
   "metadata": {},
   "outputs": [],
   "source": [
    "df_lon_merged.info()"
   ]
  },
  {
   "cell_type": "code",
   "execution_count": null,
   "metadata": {},
   "outputs": [],
   "source": [
    "df_lon_merged.describe()"
   ]
  },
  {
   "cell_type": "code",
   "execution_count": null,
   "metadata": {},
   "outputs": [],
   "source": [
    "# Sorting the DataFrame in increasing number of crimes\n",
    "df_lon_merged.sort_values(['total'], axis = 0, inplace = True )\n",
    "df_lon_merged.head()"
   ]
  },
  {
   "cell_type": "code",
   "execution_count": null,
   "metadata": {},
   "outputs": [],
   "source": [
    "# Creating a DataFrame with 10 most crime ridden boroughs\n",
    "df_lon_top10 = df_lon_merged.tail(10)\n",
    "df_lon_top10.sort_values(['total'], ascending = False, axis = 0, inplace = True)\n",
    "df_lon_top10"
   ]
  },
  {
   "cell_type": "code",
   "execution_count": null,
   "metadata": {},
   "outputs": [],
   "source": [
    "# Creating a DataFrame with 10 least crime ridden boroughs\n",
    "df_lon_least10 = df_lon_merged.head(10)\n",
    "df_lon_least10.sort_values(['total'], axis = 0, inplace = True)\n",
    "df_lon_least10"
   ]
  },
  {
   "cell_type": "code",
   "execution_count": null,
   "metadata": {},
   "outputs": [],
   "source": [
    "# Plotting the 10 top crime ridden boroughs\n",
    "df_lon_crimes_top10 = df_lon_top10[['borough','total']]\n",
    "df_lon_crimes_top10.set_index('borough',inplace = True)\n",
    "ax = df_lon_crimes_top10.plot(kind='bar', figsize=(25, 10), rot =0)\n",
    "ax.set_xlabel('London boroughs')\n",
    "ax.set_ylabel('Count of crimes committed')\n",
    "ax.set_title('10 top crime ridden London boroughs')\n",
    "for p in ax.patches:\n",
    "    ax.annotate(np.round(p.get_height(),decimals=2), \n",
    "                (p.get_x()+p.get_width()/2., p.get_height()), \n",
    "                ha='center', \n",
    "                va='center', \n",
    "                xytext=(0, 10), \n",
    "                textcoords='offset points',\n",
    "                fontsize = 16\n",
    "               )\n",
    "plt.show()"
   ]
  },
  {
   "cell_type": "code",
   "execution_count": null,
   "metadata": {},
   "outputs": [],
   "source": [
    "# Plotting the 10 least crime ridden boroughs\n",
    "df_lon_crimes_least10 = df_lon_least10[['borough','total']]\n",
    "df_lon_crimes_least10.set_index('borough',inplace = True)\n",
    "ax = df_lon_crimes_least10.plot(kind='bar', figsize=(25, 10), rot =0)\n",
    "ax.set_xlabel('London boroughs')\n",
    "ax.set_ylabel('Count of crimes committed')\n",
    "ax.set_title('10 least crime ridden London boroughs')\n",
    "for p in ax.patches:\n",
    "    ax.annotate(np.round(p.get_height(),decimals=2), \n",
    "                (p.get_x()+p.get_width()/2., p.get_height()), \n",
    "                ha='center', \n",
    "                va='center', \n",
    "                xytext=(0, 10), \n",
    "                textcoords='offset points',\n",
    "                fontsize = 16\n",
    "               )\n",
    "plt.show()"
   ]
  },
  {
   "cell_type": "markdown",
   "metadata": {},
   "source": [
    "### Conclusions \n",
    "* **The 10 top crime ridden boroughs have to be avoided by anyone new coming to reside in London**\n",
    "* **The 10 least crime ridden boroughs should be considered for residing by a newcomer**\n",
    "* **City of London is the 33rd principal division of Greater London but it is not a London borough so for the purpose of this project, Kingston upon Thames will be analysed instead for neighbourhoods*** \n",
    "* ***Source - https://en.wikipedia.org/wiki/List_of_London_boroughs**"
   ]
  },
  {
   "cell_type": "markdown",
   "metadata": {},
   "source": [
    "## Part 4 - Analyzing the least crime ridden borough (Kingston upon Thames) of London for neighbourhoods"
   ]
  },
  {
   "cell_type": "markdown",
   "metadata": {},
   "source": [
    "Location of data: https://en.wikipedia.org/wiki/List_of_districts_in_the_Royal_Borough_of_Kingston_upon_Thames"
   ]
  },
  {
   "cell_type": "code",
   "execution_count": null,
   "metadata": {},
   "outputs": [],
   "source": [
    "# Creating a DataFrame for crimes in Kingston\n",
    "df_kingston = df_lon_least10[1:2]\n",
    "df_kingston = df_kingston [['borough', 'burglary', 'criminal_damage', 'drugs', 'other_notifiable_offences', 'robbery', 'theft_and_handling','violence_against_the_person']]\n",
    "df_kingston.set_index('borough', inplace = True)\n",
    "df_kingston.head()"
   ]
  },
  {
   "cell_type": "code",
   "execution_count": null,
   "metadata": {},
   "outputs": [],
   "source": [
    "# Plotting the created DataFrame\n",
    "ax = df_kingston.plot(kind='bar', figsize=(25, 10), rot=0)\n",
    "ax.set_ylabel('Count of crimes committed')\n",
    "ax.set_xlabel('Borough')\n",
    "ax.set_title('Type of crimes committed in Kingston Upon Thames')\n",
    "for p in ax.patches:\n",
    "    ax.annotate(np.round(p.get_height(),decimals=2), \n",
    "                (p.get_x()+p.get_width()/2., p.get_height()), \n",
    "                ha='center', \n",
    "                va='center', \n",
    "                xytext=(0, 10), \n",
    "                textcoords='offset points',\n",
    "                fontsize = 16\n",
    "               )\n",
    "plt.show()"
   ]
  },
  {
   "cell_type": "code",
   "execution_count": null,
   "metadata": {},
   "outputs": [],
   "source": [
    "df_kingston"
   ]
  },
  {
   "cell_type": "code",
   "execution_count": null,
   "metadata": {},
   "outputs": [],
   "source": [
    "# Using 'https://en.wikipedia.org/wiki/List_of_districts_in_the_Royal_Borough_of_Kingston_upon_Thames' to create a DataFrame for Neighbourhoods\n",
    "Borough = ['Kingston upon Thames','Kingston upon Thames','Kingston upon Thames','Kingston upon Thames','Kingston upon Thames','Kingston upon Thames','Kingston upon Thames','Kingston upon Thames','Kingston upon Thames','Kingston upon Thames','Kingston upon Thames','Kingston upon Thames','Kingston upon Thames','Kingston upon Thames','Kingston upon Thames']\n",
    "kingston_neigh = ['Berrylands','Canbury','Chessington','Coombe','Hook','Kingston upon Thames','Kingston Vale','Malden Rushett','Motspur Park','New Malden','Norbiton','Old Malden','Seething Wells','Surbiton','Tolworth']\n",
    "Latitudes = []\n",
    "Longitudes = []\n",
    "for k in range(len(kingston_neigh)):\n",
    "    address = '{},London,United Kingdom'.format(kingston_neigh[k])\n",
    "    geolocator = Nominatim(user_agent=\"London_agent\")\n",
    "    location = geolocator.geocode(address)\n",
    "    Latitudes.append(location.latitude)\n",
    "    Longitudes.append(location.longitude)\n",
    "kut_neigh = {'Neighbourhood': kingston_neigh,'Borough':Borough,'Latitudes': Latitudes,'Longitudes':Longitudes}\n",
    "df_kingston_neigh = pd.DataFrame(data=kut_neigh, columns=['Neighbourhood', 'Borough', 'Latitudes', 'Longitudes'], index=None)\n",
    "df_kingston_neigh"
   ]
  },
  {
   "cell_type": "code",
   "execution_count": null,
   "metadata": {},
   "outputs": [],
   "source": [
    "# Creating a map of Kingston Upon Thames using the using random coordinates from the DataFrame (say Tolworth)\n",
    "kingston_map = folium.Map(location=[51.378876, -0.282860], zoom_start=12)\n",
    "for lati, longi, boro, neig in zip(df_kingston_neigh['Latitudes'], df_kingston_neigh['Longitudes'], df_kingston_neigh['Borough'], df_kingston_neigh['Neighbourhood']):\n",
    "    lab = '{}, {}'.format(neig, boro)\n",
    "    lab = folium.Popup(lab, parse_html=True)\n",
    "    folium.CircleMarker(\n",
    "        [lati, longi],\n",
    "        radius=5,\n",
    "        popup=lab,\n",
    "        color='red',\n",
    "        fill=True,\n",
    "        fill_color='#fffc4a',\n",
    "        fill_opacity=0.6,\n",
    "        parse_html=False).add_to(kingston_map)  \n",
    "kingston_map"
   ]
  },
  {
   "cell_type": "markdown",
   "metadata": {},
   "source": [
    "### Using Foursquare to analyze neighbourhoods within 1 km (1000m)"
   ]
  },
  {
   "cell_type": "code",
   "execution_count": null,
   "metadata": {},
   "outputs": [],
   "source": [
    "# Listing Foursquare credentials\n",
    "client_id = 'L5CQWSEYKAAVGX5TBPUGCZDHY3W30HSRCTGO4HPDXRVDMORG'\n",
    "client_secret = 'W0AJ1JOCNXF0JWCDLWPCPIS5QP4JCYKZXTDZXAX30IJPQ55Y'\n",
    "version = '20180604'\n",
    "limit = 30"
   ]
  },
  {
   "cell_type": "code",
   "execution_count": null,
   "metadata": {},
   "outputs": [],
   "source": [
    "# Defining a function to get venues for above neighbourhoods\n",
    "def kingston_venues(locales, lati, longi, radius=1000):\n",
    "    kingston_venuelist=[]\n",
    "    for loc, lat, long in zip(locales, lati, longi):\n",
    "        print(loc)    \n",
    "        url = 'https://api.foursquare.com/v2/venues/explore?&client_id={}&client_secret={}&v={}&ll={},{}&radius={}&limit={}'.format(\n",
    "            client_id, \n",
    "            client_secret, \n",
    "            version, \n",
    "            lat, \n",
    "            long, \n",
    "            radius, \n",
    "            limit)\n",
    "          \n",
    "        results = requests.get(url).json()[\"response\"]['groups'][0]['items']\n",
    "        kingston_venuelist.append([(\n",
    "            loc, \n",
    "            lat, \n",
    "            long, \n",
    "            k['venue']['name'], \n",
    "            k['venue']['location']['lat'], \n",
    "            k['venue']['location']['lng'],  \n",
    "            k['venue']['categories'][0]['name']) for k in results])\n",
    "\n",
    "    kingston_closeby_venues = pd.DataFrame([item for k in kingston_venuelist for item in k])\n",
    "    kingston_closeby_venues.columns = ['Neighbourhood', \n",
    "                  'Latitudes_neighbourhood', \n",
    "                  'Longitudes_neighbourhood', \n",
    "                  'Venue', \n",
    "                  'Latitudes_venue', \n",
    "                  'Longitudes_venue', \n",
    "                  'Category_venue']\n",
    "    return(kingston_closeby_venues)"
   ]
  },
  {
   "cell_type": "code",
   "execution_count": null,
   "metadata": {},
   "outputs": [],
   "source": [
    "# Creating a DataFrame using the function defined above\n",
    "df_kingston_venues = kingston_venues(locales=df_kingston_neigh['Neighbourhood'], lati=df_kingston_neigh['Latitudes'], longi=df_kingston_neigh['Longitudes'])"
   ]
  },
  {
   "cell_type": "code",
   "execution_count": null,
   "metadata": {},
   "outputs": [],
   "source": [
    "df_kingston_venues.shape"
   ]
  },
  {
   "cell_type": "code",
   "execution_count": null,
   "metadata": {},
   "outputs": [],
   "source": [
    "df_kingston_venues.head()"
   ]
  },
  {
   "cell_type": "code",
   "execution_count": null,
   "metadata": {},
   "outputs": [],
   "source": [
    "# Creating a DataFrame to look closely at venue categories for every neighbourhood\n",
    "df_kingston_tranformed = pd.get_dummies(df_kingston_venues[['Category_venue']], prefix=\"\", prefix_sep=\"\")\n",
    "df_kingston_tranformed['Neighbourhood'] = df_kingston_venues['Neighbourhood'] \n",
    "move_column = [df_kingston_tranformed.columns[-1]] + list(df_kingston_tranformed.columns[:-1])\n",
    "df_kingston_tranformed = df_kingston_tranformed[move_column]\n",
    "df_kingston_grouped = df_kingston_tranformed.groupby('Neighbourhood').mean().reset_index()\n",
    "df_kingston_grouped.head()"
   ]
  },
  {
   "cell_type": "code",
   "execution_count": null,
   "metadata": {},
   "outputs": [],
   "source": [
    "df_kingston_grouped.shape"
   ]
  },
  {
   "cell_type": "code",
   "execution_count": null,
   "metadata": {},
   "outputs": [],
   "source": [
    "# Defining a function for creating a DataFrame with 15 common venues of the neighbourhoods\n",
    "def kingston_common_venues (item, number):\n",
    "    item_cat_1 = item.iloc[1:]\n",
    "    item_cat_2 = item_cat_1.sort_values(ascending=False)\n",
    "    \n",
    "    return item_cat_2.index.values[0:number]"
   ]
  },
  {
   "cell_type": "code",
   "execution_count": null,
   "metadata": {},
   "outputs": [],
   "source": [
    "# Creating a DataFrame that lists 15 common venues of the Kingston neighbourhoods\n",
    "number = 15\n",
    "columns = ['Neighbourhood']\n",
    "for k in np.arange(number):\n",
    "    try:\n",
    "        columns.append('Top venue number {}{}'.format(k+1))\n",
    "    except:\n",
    "        columns.append('Top venue number {}'.format(k+1))\n",
    "df_kingston_common_venues = pd.DataFrame(columns=columns)\n",
    "df_kingston_common_venues['Neighbourhood'] = df_kingston_grouped['Neighbourhood']\n",
    "for i in np.arange(df_kingston_grouped.shape[0]):\n",
    "    df_kingston_common_venues.iloc[i, 1:] = kingston_common_venues(df_kingston_grouped.iloc[i, :], number)\n",
    "df_kingston_common_venues"
   ]
  },
  {
   "cell_type": "markdown",
   "metadata": {},
   "source": [
    "### Clustering identical neighbourhoods using K-means and analysing them"
   ]
  },
  {
   "cell_type": "code",
   "execution_count": null,
   "metadata": {},
   "outputs": [],
   "source": [
    "# Performing k-means clustering\n",
    "neigh_k = 6\n",
    "df_kingston_neigh_clusters = df_kingston_grouped.drop('Neighbourhood', 1)\n",
    "kingston_kmeans = KMeans(n_clusters=neigh_k, random_state=0).fit(df_kingston_neigh_clusters)\n",
    "kingston_kmeans.labels_[0:10]"
   ]
  },
  {
   "cell_type": "code",
   "execution_count": null,
   "metadata": {},
   "outputs": [],
   "source": [
    "# Adding clusters information to the merged DataFrame\n",
    "df_kingston_common_venues.insert(0, 'Labels', kingston_kmeans.labels_)\n",
    "df_kingston_merged = df_kingston_neigh\n",
    "df_kingston_merged = df_kingston_neigh.join(df_kingston_common_venues.set_index('Neighbourhood'), on='Neighbourhood')\n",
    "df_kingston_merged"
   ]
  },
  {
   "cell_type": "code",
   "execution_count": null,
   "metadata": {},
   "outputs": [],
   "source": [
    "df_kingston_merged"
   ]
  },
  {
   "cell_type": "code",
   "execution_count": null,
   "metadata": {},
   "outputs": [],
   "source": [
    "df_kingston_merged.shape"
   ]
  },
  {
   "cell_type": "code",
   "execution_count": null,
   "metadata": {},
   "outputs": [],
   "source": [
    "# Creating visualization for clusters generated using Berrylands as the central point\n",
    "kingston_clusters_map = folium.Map(location=[51.393781, -0.284802], zoom_start=12)\n",
    "x = np.arange(neigh_k)\n",
    "ys = [i + x + (i*x)**2 for i in range(neigh_k)]\n",
    "colors_array = mpcm.rainbow(np.linspace(0, 1, len(ys)))\n",
    "rainbow = [cols.rgb2hex(i) for i in colors_array]\n",
    "markers_colors = []\n",
    "for lat, lon, poi, cluster in zip(df_kingston_merged['Latitudes'], df_kingston_merged['Longitudes'], df_kingston_merged['Neighbourhood'], df_kingston_merged['Labels']):\n",
    "    label = folium.Popup(str(poi) + ' Cluster ' + str(cluster), parse_html=True)\n",
    "    folium.CircleMarker(\n",
    "        [lat, lon],\n",
    "        radius=8,\n",
    "        popup=label,\n",
    "        color=rainbow[cluster-1],\n",
    "        fill=True,\n",
    "        fill_color=rainbow[cluster-1],\n",
    "        fill_opacity=0.5).add_to(kingston_clusters_map)\n",
    "       \n",
    "kingston_clusters_map"
   ]
  },
  {
   "cell_type": "code",
   "execution_count": null,
   "metadata": {},
   "outputs": [],
   "source": [
    "df_kingston_merged[df_kingston_merged['Labels'] == 0]"
   ]
  },
  {
   "cell_type": "code",
   "execution_count": null,
   "metadata": {},
   "outputs": [],
   "source": [
    "df_kingston_merged[df_kingston_merged['Labels'] == 1]"
   ]
  },
  {
   "cell_type": "code",
   "execution_count": null,
   "metadata": {},
   "outputs": [],
   "source": [
    "df_kingston_merged[df_kingston_merged['Labels'] == 2]"
   ]
  },
  {
   "cell_type": "code",
   "execution_count": null,
   "metadata": {},
   "outputs": [],
   "source": [
    "df_kingston_merged[df_kingston_merged['Labels'] == 3]"
   ]
  },
  {
   "cell_type": "code",
   "execution_count": null,
   "metadata": {},
   "outputs": [],
   "source": [
    "df_kingston_merged[df_kingston_merged['Labels'] == 4]"
   ]
  },
  {
   "cell_type": "code",
   "execution_count": null,
   "metadata": {},
   "outputs": [],
   "source": [
    "df_kingston_merged[df_kingston_merged['Labels'] == 5]"
   ]
  },
  {
   "cell_type": "markdown",
   "metadata": {},
   "source": [
    "## Part 4 - Results and Conclusion"
   ]
  },
  {
   "cell_type": "markdown",
   "metadata": {},
   "source": [
    "The purpose of this project was to analyse the boroughs of London (UK) for safety based upon the criminal records available in public domain.\n",
    "Based upon the analysis conducted, **Kingston Upon Thames has been identified as the safest borough in London** for anyone planning to move to one of the most iconic cities of the world.\n",
    "\n",
    "The project's secondary aim was to analyze the neighbourhoods of the borough and cluster them based upon their venues to further help a newbie to select a neighbourhood based upon his / her individual preferences and tastes. Based upon the clustering done, **a choice of 6 clusters is available to choose from as per the below list: -**\n",
    "* Cluster 1 - For individuals prefering pubs and coffee joints.\n",
    "* Cluster 2 - For individuals prefering theme parks / attractions and pubs.\n",
    "* Cluster 3 - For individuals prefering parks and restaurants.\n",
    "* Cluster 4 - For individuals prefering hotel and stables.\n",
    "* Cluster 5 - For individuals prefering train station and convenience stores.\n",
    "* Cluster 6 - For individuals prefering stables and grocery stores."
   ]
  }
 ],
 "metadata": {
  "kernelspec": {
   "display_name": "Python 3",
   "language": "python",
   "name": "python3"
  },
  "language_info": {
   "codemirror_mode": {
    "name": "ipython",
    "version": 3
   },
   "file_extension": ".py",
   "mimetype": "text/x-python",
   "name": "python",
   "nbconvert_exporter": "python",
   "pygments_lexer": "ipython3",
   "version": "3.8.3"
  }
 },
 "nbformat": 4,
 "nbformat_minor": 4
}
