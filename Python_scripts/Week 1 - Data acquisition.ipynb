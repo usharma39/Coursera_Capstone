{
 "cells": [
  {
   "cell_type": "markdown",
   "metadata": {},
   "source": [
    "# IBM Data Science Professional Certification - Capstone Project"
   ]
  },
  {
   "cell_type": "markdown",
   "metadata": {},
   "source": [
    "## The Battle of Neighbourhoods (London)"
   ]
  },
  {
   "cell_type": "markdown",
   "metadata": {},
   "source": [
    "### Introduction/Business Problem"
   ]
  },
  {
   "cell_type": "markdown",
   "metadata": {},
   "source": [
    "The purpose of this project is to analyse the boroughs of London (UK) for safety based upon the criminal records available in public domain. This analysis would be help to those planning to move to London to pursue their professional ambitions. It will provide them with an unbiased report on where to rent of buy a place to live, assuming that safety is the topmost priority for anyone moving to a new place.\n",
    "\n",
    "Once the safest borough is idenfied by the analysis, an attempt will be made to explore the top neighbourhoods in that borough. This will provide more information to a new person for selecting a specific neighbourhood to reside based upon his / her individual preferences and tastes."
   ]
  },
  {
   "cell_type": "markdown",
   "metadata": {},
   "source": [
    "### Data acquisition"
   ]
  },
  {
   "cell_type": "markdown",
   "metadata": {},
   "source": [
    "The below data will be required to solve the aforementioned business problem: -\n",
    "* Criminal records for the city of London\n",
    "* Neighbourhood details for London boroughs\n",
    "* Venues' information from Foursquare for neighbourhoods <br>\n",
    "\n",
    "The data sources that will be used to acquire the above information are mentioned below: -\n",
    "* Real world dataset from Kaggle providing details about crimes in London - https://www.kaggle.com/jboysen/london-crime\n",
    "* Information about London's boroughs from Wikipedia (Google Maps API geocoding will be used for sourcing coordinates of neighbourhoods within a borough) - https://en.wikipedia.org/wiki/List_of_London_boroughs\n",
    "* Information about neighbourhoods from Wikipedia for the safest borough identified from the analysis\n",
    "* Information from Foursquare for venues in the neighbourhoods of the safest borough identified from the analysis"
   ]
  }
 ],
 "metadata": {
  "kernelspec": {
   "display_name": "Python 3",
   "language": "python",
   "name": "python3"
  },
  "language_info": {
   "codemirror_mode": {
    "name": "ipython",
    "version": 3
   },
   "file_extension": ".py",
   "mimetype": "text/x-python",
   "name": "python",
   "nbconvert_exporter": "python",
   "pygments_lexer": "ipython3",
   "version": "3.8.3"
  }
 },
 "nbformat": 4,
 "nbformat_minor": 4
}
