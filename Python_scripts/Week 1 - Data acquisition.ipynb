{
 "cells": [
  {
   "cell_type": "markdown",
   "metadata": {},
   "source": [
    "# IBM Data Science Professional Certification - Capstone Project"
   ]
  },
  {
   "cell_type": "markdown",
   "metadata": {},
   "source": [
    "## The Battle of Neighbourhoods (London)"
   ]
  },
  {
   "cell_type": "markdown",
   "metadata": {},
   "source": [
    "### Introduction/Business Problem"
   ]
  },
  {
   "cell_type": "markdown",
   "metadata": {},
   "source": [
    "The purpose of this project is to analyse the boroughs of London (UK) for safety based upon the criminal records available in public domain. This analysis would be help to those planning to move to London to pursue their professional ambitions. It will provide them with an unbiased report on where to rent of buy a place to live, assuming that safety is the topmost priority for anyone moving to a new place.\n",
    "\n",
    "Once the safest borough is idenfied by the analysis, an attempt will be made to explore the top neighbourhoods in that borough. This will provide more information to a new person for selecting a specific neighbourhood to reside based upon his / her individual preferences and tastes."
   ]
  },
  {
   "cell_type": "markdown",
   "metadata": {},
   "source": [
    "### Data acquisition"
   ]
  },
  {
   "cell_type": "markdown",
   "metadata": {},
   "source": [
    "The below data will be required to solve the aforementioned business problem: -\n",
    "\n",
    "* **Criminal records for the city of London**\n",
    "  * <u>Source of data</u> - Real world dataset from Kaggle providing details about crimes in London - https://www.kaggle.com/jboysen/london-crime\n",
    "  * <u>Comprehensive description of the data</u> - The dataset from Kaggle consists of London Crime Data from 2008 to 2016. The csv file has a total 13000 rows of criminal data for all boroughs of London. The columns in the csv file are listed below with description of what each type of heading means: -\n",
    "    * lsoa_code: Code for Lower Super Output Area in Greater London.\n",
    "    * borough: Common name for London borough.\n",
    "    * major_category: High level categorization of crime.\n",
    "    * minor_category: Low level categorization of crime within major category.\n",
    "    * value: Monthly reported count of categorical crime in given borough.\n",
    "    * year: Year of reported counts, 2008-2016.\n",
    "    * month: Month of reported counts, 1-12.\n",
    "  * <u>Example of what features can be extracted from the data</u> -\n",
    "    * The lastet available data ('year' 2016) can be extracted from the csv file to provide latest crime statistics for London.\n",
    "    * The 'value' column can be combined borough-wise to give a direct indication of which boroughs have the minimum crimes recorded for the year 2016.\n",
    "    * The 'major_category' and 'value' columns can be used to generate a borough-wise DataFrame for further analysis.\n",
    "* **Neighbourhood details for London boroughs**\n",
    "  * <u>Source of data (part 1)</u> - Information about London's boroughs from Wikipedia - https://en.wikipedia.org/wiki/List_of_London_boroughs\n",
    "  * <u>Source of data (part 2)</u> - Information about neighbourhoods from Wikipedia for the safest borough identified from the analysis - https://en.wikipedia.org/wiki/List_of_districts_in_the_Royal_Borough_of_Kingston_upon_Thames\n",
    "  * <u>Comprehensive description of the data</u> - Part 1 data source from Wikipedia provides the details of London's boroughs and local authorities. Part 2 data source provides the neighbourhoods (districts) of a particular borough. The columns in the Wikipedia table (part 1 data source) are listed below with description of what each type of heading means: -\n",
    "    * Borough: Provides the names of the adminsistrative regions of London.\n",
    "    * Inner: Lists which boroughs fall within the inner administrative boundary of London.\n",
    "    * Status: Provides royal or city status of a borough, if any.\n",
    "    * Local authority: Provides the name of the council responsible for administration of a particular borough.\n",
    "    * Political control: Provides the name of the political party in control of a particular borough.\n",
    "    * Headquarters: Provides the address of the council office.\n",
    "    * Area (sq mi): Provides the area of the borough in square miles.\n",
    "    * Population (2013 est): Provides the population of the borough.\n",
    "    * Coordinates: Provides the coordinates of the borough.\n",
    "    * Nr. in map: Provides the designated map number for the borough.<br>\n",
    "  * <u>Example of what features can be extracted from the data</u> -\n",
    "    * The borough-wise table can be converted to a DataFrame.\n",
    "    * This DataFrame can then be combined with the Kagggle DataFrame for further analysis.\n",
    "    * The 'Coordinates' column can be used to analyse the criminal record.\n",
    "* **Venues' information from Foursquare for neighbourhoods** <br>\n",
    "  * <u>Source of data</u> - Information from Foursquare for venues in the neighbourhoods of the safest borough identified from the analysis.\n",
    "  * <u>Comprehensive description of the data</u> - The Foursquare database can be used to generate a list for venues, their latitudes and longitudes as well as venue categories. This can then be used to generate clusters of neighbourhoods which have commom venues, which can further help a new person in shortlisting a neighbourhood to reside within the safest council. A list of possible venues that can be generated is provided below: -\n",
    "    * Pub\n",
    "    * Train station\n",
    "    * Supermarkets\n",
    "    * Stables\n",
    "    * Parks\n",
    "    * Restaurants\n",
    "    * Grocery store\n",
    "    * Bus station\n",
    "    * Coffee shops\n",
    "  * <u>Example of what features can be extracted from the data</u> -\n",
    "    * Clusters of boroughs can be generated which are closest to parks.\n",
    "    * Clusters of boroughs can be generated which are closest to bus or train stations.\n",
    "    * Clusters of boroughs can be generated which are closest to coffee shops, pubs, or restaurants."
   ]
  }
 ],
 "metadata": {
  "kernelspec": {
   "display_name": "Python 3",
   "language": "python",
   "name": "python3"
  },
  "language_info": {
   "codemirror_mode": {
    "name": "ipython",
    "version": 3
   },
   "file_extension": ".py",
   "mimetype": "text/x-python",
   "name": "python",
   "nbconvert_exporter": "python",
   "pygments_lexer": "ipython3",
   "version": "3.8.3"
  }
 },
 "nbformat": 4,
 "nbformat_minor": 4
}
